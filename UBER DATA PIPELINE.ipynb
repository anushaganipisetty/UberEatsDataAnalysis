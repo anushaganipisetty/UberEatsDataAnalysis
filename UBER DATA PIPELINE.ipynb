{
  "metadata": {
    "kernelspec": {
      "name": "python",
      "display_name": "Python (Pyodide)",
      "language": "python"
    },
    "language_info": {
      "codemirror_mode": {
        "name": "python",
        "version": 3
      },
      "file_extension": ".py",
      "mimetype": "text/x-python",
      "name": "python",
      "nbconvert_exporter": "python",
      "pygments_lexer": "ipython3",
      "version": "3.8"
    }
  },
  "nbformat_minor": 4,
  "nbformat": 4,
  "cells": [
    {
      "cell_type": "code",
      "source": "import pandas as pd",
      "metadata": {
        "trusted": true
      },
      "outputs": [],
      "execution_count": 1
    },
    {
      "cell_type": "code",
      "source": "df = pd.read_csv(\"data/uber_data.csv\")",
      "metadata": {
        "trusted": true
      },
      "outputs": [],
      "execution_count": 3
    },
    {
      "cell_type": "code",
      "source": "df.head()",
      "metadata": {
        "trusted": true
      },
      "outputs": [
        {
          "execution_count": 4,
          "output_type": "execute_result",
          "data": {
            "text/plain": "   VendorID tpep_pickup_datetime tpep_dropoff_datetime  passenger_count  \\\n0         1        3/1/2016 0:00         3/1/2016 0:07                1   \n1         1        3/1/2016 0:00         3/1/2016 0:11                1   \n2         2        3/1/2016 0:00         3/1/2016 0:31                2   \n3         2        3/1/2016 0:00         3/1/2016 0:00                3   \n4         2        3/1/2016 0:00         3/1/2016 0:00                5   \n\n   trip_distance  pickup_longitude  pickup_latitude  RatecodeID  \\\n0           2.50        -73.976746        40.765152           1   \n1           2.90        -73.983482        40.767925           1   \n2          19.98        -73.782021        40.644810           1   \n3          10.78        -73.863419        40.769814           1   \n4          30.43        -73.971741        40.792183           3   \n\n  store_and_fwd_flag  dropoff_longitude  dropoff_latitude  payment_type  \\\n0                  N         -74.004265         40.746128             1   \n1                  N         -74.005943         40.733166             1   \n2                  N         -73.974541         40.675770             1   \n3                  N         -73.969650         40.757767             1   \n4                  N         -74.177170         40.695053             1   \n\n   fare_amount  extra  mta_tax  tip_amount  tolls_amount  \\\n0          9.0    0.5      0.5        2.05          0.00   \n1         11.0    0.5      0.5        3.05          0.00   \n2         54.5    0.5      0.5        8.00          0.00   \n3         31.5    0.0      0.5        3.78          5.54   \n4         98.0    0.0      0.0        0.00         15.50   \n\n   improvement_surcharge  total_amount  \n0                    0.3         12.35  \n1                    0.3         15.35  \n2                    0.3         63.80  \n3                    0.3         41.62  \n4                    0.3        113.80  ",
            "text/html": "<div>\n<style scoped>\n    .dataframe tbody tr th:only-of-type {\n        vertical-align: middle;\n    }\n\n    .dataframe tbody tr th {\n        vertical-align: top;\n    }\n\n    .dataframe thead th {\n        text-align: right;\n    }\n</style>\n<table border=\"1\" class=\"dataframe\">\n  <thead>\n    <tr style=\"text-align: right;\">\n      <th></th>\n      <th>VendorID</th>\n      <th>tpep_pickup_datetime</th>\n      <th>tpep_dropoff_datetime</th>\n      <th>passenger_count</th>\n      <th>trip_distance</th>\n      <th>pickup_longitude</th>\n      <th>pickup_latitude</th>\n      <th>RatecodeID</th>\n      <th>store_and_fwd_flag</th>\n      <th>dropoff_longitude</th>\n      <th>dropoff_latitude</th>\n      <th>payment_type</th>\n      <th>fare_amount</th>\n      <th>extra</th>\n      <th>mta_tax</th>\n      <th>tip_amount</th>\n      <th>tolls_amount</th>\n      <th>improvement_surcharge</th>\n      <th>total_amount</th>\n    </tr>\n  </thead>\n  <tbody>\n    <tr>\n      <th>0</th>\n      <td>1</td>\n      <td>3/1/2016 0:00</td>\n      <td>3/1/2016 0:07</td>\n      <td>1</td>\n      <td>2.50</td>\n      <td>-73.976746</td>\n      <td>40.765152</td>\n      <td>1</td>\n      <td>N</td>\n      <td>-74.004265</td>\n      <td>40.746128</td>\n      <td>1</td>\n      <td>9.0</td>\n      <td>0.5</td>\n      <td>0.5</td>\n      <td>2.05</td>\n      <td>0.00</td>\n      <td>0.3</td>\n      <td>12.35</td>\n    </tr>\n    <tr>\n      <th>1</th>\n      <td>1</td>\n      <td>3/1/2016 0:00</td>\n      <td>3/1/2016 0:11</td>\n      <td>1</td>\n      <td>2.90</td>\n      <td>-73.983482</td>\n      <td>40.767925</td>\n      <td>1</td>\n      <td>N</td>\n      <td>-74.005943</td>\n      <td>40.733166</td>\n      <td>1</td>\n      <td>11.0</td>\n      <td>0.5</td>\n      <td>0.5</td>\n      <td>3.05</td>\n      <td>0.00</td>\n      <td>0.3</td>\n      <td>15.35</td>\n    </tr>\n    <tr>\n      <th>2</th>\n      <td>2</td>\n      <td>3/1/2016 0:00</td>\n      <td>3/1/2016 0:31</td>\n      <td>2</td>\n      <td>19.98</td>\n      <td>-73.782021</td>\n      <td>40.644810</td>\n      <td>1</td>\n      <td>N</td>\n      <td>-73.974541</td>\n      <td>40.675770</td>\n      <td>1</td>\n      <td>54.5</td>\n      <td>0.5</td>\n      <td>0.5</td>\n      <td>8.00</td>\n      <td>0.00</td>\n      <td>0.3</td>\n      <td>63.80</td>\n    </tr>\n    <tr>\n      <th>3</th>\n      <td>2</td>\n      <td>3/1/2016 0:00</td>\n      <td>3/1/2016 0:00</td>\n      <td>3</td>\n      <td>10.78</td>\n      <td>-73.863419</td>\n      <td>40.769814</td>\n      <td>1</td>\n      <td>N</td>\n      <td>-73.969650</td>\n      <td>40.757767</td>\n      <td>1</td>\n      <td>31.5</td>\n      <td>0.0</td>\n      <td>0.5</td>\n      <td>3.78</td>\n      <td>5.54</td>\n      <td>0.3</td>\n      <td>41.62</td>\n    </tr>\n    <tr>\n      <th>4</th>\n      <td>2</td>\n      <td>3/1/2016 0:00</td>\n      <td>3/1/2016 0:00</td>\n      <td>5</td>\n      <td>30.43</td>\n      <td>-73.971741</td>\n      <td>40.792183</td>\n      <td>3</td>\n      <td>N</td>\n      <td>-74.177170</td>\n      <td>40.695053</td>\n      <td>1</td>\n      <td>98.0</td>\n      <td>0.0</td>\n      <td>0.0</td>\n      <td>0.00</td>\n      <td>15.50</td>\n      <td>0.3</td>\n      <td>113.80</td>\n    </tr>\n  </tbody>\n</table>\n</div>"
          },
          "metadata": {}
        }
      ],
      "execution_count": 4
    },
    {
      "cell_type": "code",
      "source": "df.info()",
      "metadata": {
        "trusted": true
      },
      "outputs": [
        {
          "name": "stdout",
          "text": "<class 'pandas.core.frame.DataFrame'>\nRangeIndex: 100000 entries, 0 to 99999\nData columns (total 19 columns):\n #   Column                 Non-Null Count   Dtype  \n---  ------                 --------------   -----  \n 0   VendorID               100000 non-null  int64  \n 1   tpep_pickup_datetime   100000 non-null  object \n 2   tpep_dropoff_datetime  100000 non-null  object \n 3   passenger_count        100000 non-null  int64  \n 4   trip_distance          100000 non-null  float64\n 5   pickup_longitude       100000 non-null  float64\n 6   pickup_latitude        100000 non-null  float64\n 7   RatecodeID             100000 non-null  int64  \n 8   store_and_fwd_flag     100000 non-null  object \n 9   dropoff_longitude      100000 non-null  float64\n 10  dropoff_latitude       100000 non-null  float64\n 11  payment_type           100000 non-null  int64  \n 12  fare_amount            100000 non-null  float64\n 13  extra                  100000 non-null  float64\n 14  mta_tax                100000 non-null  float64\n 15  tip_amount             100000 non-null  float64\n 16  tolls_amount           100000 non-null  float64\n 17  improvement_surcharge  100000 non-null  float64\n 18  total_amount           100000 non-null  float64\ndtypes: float64(12), int64(4), object(3)\nmemory usage: 13.4+ MB\n",
          "output_type": "stream"
        }
      ],
      "execution_count": 5
    },
    {
      "cell_type": "code",
      "source": "df.info()",
      "metadata": {
        "trusted": true
      },
      "outputs": [
        {
          "name": "stdout",
          "text": "<class 'pandas.core.frame.DataFrame'>\nRangeIndex: 100000 entries, 0 to 99999\nData columns (total 19 columns):\n #   Column                 Non-Null Count   Dtype  \n---  ------                 --------------   -----  \n 0   VendorID               100000 non-null  int64  \n 1   tpep_pickup_datetime   100000 non-null  object \n 2   tpep_dropoff_datetime  100000 non-null  object \n 3   passenger_count        100000 non-null  int64  \n 4   trip_distance          100000 non-null  float64\n 5   pickup_longitude       100000 non-null  float64\n 6   pickup_latitude        100000 non-null  float64\n 7   RatecodeID             100000 non-null  int64  \n 8   store_and_fwd_flag     100000 non-null  object \n 9   dropoff_longitude      100000 non-null  float64\n 10  dropoff_latitude       100000 non-null  float64\n 11  payment_type           100000 non-null  int64  \n 12  fare_amount            100000 non-null  float64\n 13  extra                  100000 non-null  float64\n 14  mta_tax                100000 non-null  float64\n 15  tip_amount             100000 non-null  float64\n 16  tolls_amount           100000 non-null  float64\n 17  improvement_surcharge  100000 non-null  float64\n 18  total_amount           100000 non-null  float64\ndtypes: float64(12), int64(4), object(3)\nmemory usage: 13.4+ MB\n",
          "output_type": "stream"
        }
      ],
      "execution_count": 6
    },
    {
      "cell_type": "code",
      "source": "datetime_dim = df[['tpep_pickup_datetime','tpep_dropoff_datetime']].drop_duplicates().reset_index(drop=True)\ndatetime_dim['pick_hour'] = pd.to_datetime(datetime_dim['tpep_pickup_datetime']).dt.hour\ndatetime_dim['pick_day'] =  pd.to_datetime(datetime_dim['tpep_pickup_datetime']).dt.day\ndatetime_dim['pick_year'] =  pd.to_datetime(datetime_dim['tpep_pickup_datetime']).dt.year\ndatetime_dim['pick_weekday'] =  pd.to_datetime(datetime_dim['tpep_pickup_datetime']).dt.weekday\ndatetime_dim['pick_month'] =  pd.to_datetime(datetime_dim['tpep_pickup_datetime']).dt.month\n\ndatetime_dim['drop_hour'] = pd.to_datetime(datetime_dim['tpep_dropoff_datetime']).dt.hour\ndatetime_dim['drop_day'] =  pd.to_datetime(datetime_dim['tpep_dropoff_datetime']).dt.day\ndatetime_dim['drop_year'] =  pd.to_datetime(datetime_dim['tpep_dropoff_datetime']).dt.year\ndatetime_dim['drop_weekday'] =  pd.to_datetime(datetime_dim['tpep_dropoff_datetime']).dt.weekday\ndatetime_dim['drop_month'] =  pd.to_datetime(datetime_dim['tpep_dropoff_datetime']).dt.month",
      "metadata": {
        "trusted": true
      },
      "outputs": [],
      "execution_count": 32
    },
    {
      "cell_type": "code",
      "source": "datetime_dim['datetime_id'] = datetime_dim.index",
      "metadata": {
        "trusted": true
      },
      "outputs": [],
      "execution_count": 33
    },
    {
      "cell_type": "code",
      "source": "datetime_dim = datetime_dim[['datetime_id', 'tpep_pickup_datetime', 'pick_hour', 'pick_day', 'pick_month', 'pick_year', 'pick_weekday',\n                             'tpep_dropoff_datetime', 'drop_hour', 'drop_day', 'drop_month', 'drop_year', 'drop_weekday']]\n",
      "metadata": {
        "trusted": true
      },
      "outputs": [],
      "execution_count": 34
    },
    {
      "cell_type": "code",
      "source": "datetime_dim",
      "metadata": {
        "trusted": true
      },
      "outputs": [
        {
          "execution_count": 35,
          "output_type": "execute_result",
          "data": {
            "text/plain": "       datetime_id tpep_pickup_datetime  pick_hour  pick_day  pick_month  \\\n0                0        3/1/2016 0:00          0         1           3   \n1                1        3/1/2016 0:00          0         1           3   \n2                2        3/1/2016 0:00          0         1           3   \n3                3        3/1/2016 0:00          0         1           3   \n4                4        3/1/2016 0:00          0         1           3   \n...            ...                  ...        ...       ...         ...   \n26579        26579        3/1/2016 6:17          6         1           3   \n26580        26580        3/1/2016 6:17          6         1           3   \n26581        26581        3/1/2016 6:17          6         1           3   \n26582        26582        3/1/2016 6:17          6         1           3   \n26583        26583        3/1/2016 6:17          6         1           3   \n\n       pick_year  pick_weekday tpep_dropoff_datetime  drop_hour  drop_day  \\\n0           2016             1         3/1/2016 0:07          0         1   \n1           2016             1         3/1/2016 0:11          0         1   \n2           2016             1         3/1/2016 0:31          0         1   \n3           2016             1         3/1/2016 0:00          0         1   \n4           2016             1         3/1/2016 0:16          0         1   \n...          ...           ...                   ...        ...       ...   \n26579       2016             1         3/1/2016 6:27          6         1   \n26580       2016             1         3/1/2016 6:25          6         1   \n26581       2016             1         3/1/2016 6:31          6         1   \n26582       2016             1         3/1/2016 6:37          6         1   \n26583       2016             1         3/1/2016 6:32          6         1   \n\n       drop_month  drop_year  drop_weekday  \n0               3       2016             1  \n1               3       2016             1  \n2               3       2016             1  \n3               3       2016             1  \n4               3       2016             1  \n...           ...        ...           ...  \n26579           3       2016             1  \n26580           3       2016             1  \n26581           3       2016             1  \n26582           3       2016             1  \n26583           3       2016             1  \n\n[26584 rows x 13 columns]",
            "text/html": "<div>\n<style scoped>\n    .dataframe tbody tr th:only-of-type {\n        vertical-align: middle;\n    }\n\n    .dataframe tbody tr th {\n        vertical-align: top;\n    }\n\n    .dataframe thead th {\n        text-align: right;\n    }\n</style>\n<table border=\"1\" class=\"dataframe\">\n  <thead>\n    <tr style=\"text-align: right;\">\n      <th></th>\n      <th>datetime_id</th>\n      <th>tpep_pickup_datetime</th>\n      <th>pick_hour</th>\n      <th>pick_day</th>\n      <th>pick_month</th>\n      <th>pick_year</th>\n      <th>pick_weekday</th>\n      <th>tpep_dropoff_datetime</th>\n      <th>drop_hour</th>\n      <th>drop_day</th>\n      <th>drop_month</th>\n      <th>drop_year</th>\n      <th>drop_weekday</th>\n    </tr>\n  </thead>\n  <tbody>\n    <tr>\n      <th>0</th>\n      <td>0</td>\n      <td>3/1/2016 0:00</td>\n      <td>0</td>\n      <td>1</td>\n      <td>3</td>\n      <td>2016</td>\n      <td>1</td>\n      <td>3/1/2016 0:07</td>\n      <td>0</td>\n      <td>1</td>\n      <td>3</td>\n      <td>2016</td>\n      <td>1</td>\n    </tr>\n    <tr>\n      <th>1</th>\n      <td>1</td>\n      <td>3/1/2016 0:00</td>\n      <td>0</td>\n      <td>1</td>\n      <td>3</td>\n      <td>2016</td>\n      <td>1</td>\n      <td>3/1/2016 0:11</td>\n      <td>0</td>\n      <td>1</td>\n      <td>3</td>\n      <td>2016</td>\n      <td>1</td>\n    </tr>\n    <tr>\n      <th>2</th>\n      <td>2</td>\n      <td>3/1/2016 0:00</td>\n      <td>0</td>\n      <td>1</td>\n      <td>3</td>\n      <td>2016</td>\n      <td>1</td>\n      <td>3/1/2016 0:31</td>\n      <td>0</td>\n      <td>1</td>\n      <td>3</td>\n      <td>2016</td>\n      <td>1</td>\n    </tr>\n    <tr>\n      <th>3</th>\n      <td>3</td>\n      <td>3/1/2016 0:00</td>\n      <td>0</td>\n      <td>1</td>\n      <td>3</td>\n      <td>2016</td>\n      <td>1</td>\n      <td>3/1/2016 0:00</td>\n      <td>0</td>\n      <td>1</td>\n      <td>3</td>\n      <td>2016</td>\n      <td>1</td>\n    </tr>\n    <tr>\n      <th>4</th>\n      <td>4</td>\n      <td>3/1/2016 0:00</td>\n      <td>0</td>\n      <td>1</td>\n      <td>3</td>\n      <td>2016</td>\n      <td>1</td>\n      <td>3/1/2016 0:16</td>\n      <td>0</td>\n      <td>1</td>\n      <td>3</td>\n      <td>2016</td>\n      <td>1</td>\n    </tr>\n    <tr>\n      <th>...</th>\n      <td>...</td>\n      <td>...</td>\n      <td>...</td>\n      <td>...</td>\n      <td>...</td>\n      <td>...</td>\n      <td>...</td>\n      <td>...</td>\n      <td>...</td>\n      <td>...</td>\n      <td>...</td>\n      <td>...</td>\n      <td>...</td>\n    </tr>\n    <tr>\n      <th>26579</th>\n      <td>26579</td>\n      <td>3/1/2016 6:17</td>\n      <td>6</td>\n      <td>1</td>\n      <td>3</td>\n      <td>2016</td>\n      <td>1</td>\n      <td>3/1/2016 6:27</td>\n      <td>6</td>\n      <td>1</td>\n      <td>3</td>\n      <td>2016</td>\n      <td>1</td>\n    </tr>\n    <tr>\n      <th>26580</th>\n      <td>26580</td>\n      <td>3/1/2016 6:17</td>\n      <td>6</td>\n      <td>1</td>\n      <td>3</td>\n      <td>2016</td>\n      <td>1</td>\n      <td>3/1/2016 6:25</td>\n      <td>6</td>\n      <td>1</td>\n      <td>3</td>\n      <td>2016</td>\n      <td>1</td>\n    </tr>\n    <tr>\n      <th>26581</th>\n      <td>26581</td>\n      <td>3/1/2016 6:17</td>\n      <td>6</td>\n      <td>1</td>\n      <td>3</td>\n      <td>2016</td>\n      <td>1</td>\n      <td>3/1/2016 6:31</td>\n      <td>6</td>\n      <td>1</td>\n      <td>3</td>\n      <td>2016</td>\n      <td>1</td>\n    </tr>\n    <tr>\n      <th>26582</th>\n      <td>26582</td>\n      <td>3/1/2016 6:17</td>\n      <td>6</td>\n      <td>1</td>\n      <td>3</td>\n      <td>2016</td>\n      <td>1</td>\n      <td>3/1/2016 6:37</td>\n      <td>6</td>\n      <td>1</td>\n      <td>3</td>\n      <td>2016</td>\n      <td>1</td>\n    </tr>\n    <tr>\n      <th>26583</th>\n      <td>26583</td>\n      <td>3/1/2016 6:17</td>\n      <td>6</td>\n      <td>1</td>\n      <td>3</td>\n      <td>2016</td>\n      <td>1</td>\n      <td>3/1/2016 6:32</td>\n      <td>6</td>\n      <td>1</td>\n      <td>3</td>\n      <td>2016</td>\n      <td>1</td>\n    </tr>\n  </tbody>\n</table>\n<p>26584 rows × 13 columns</p>\n</div>"
          },
          "metadata": {}
        }
      ],
      "execution_count": 35
    },
    {
      "cell_type": "code",
      "source": "passenger_count_dim = df[['passenger_count']].drop_duplicates().reset_index(drop=True)\npassenger_count_dim['passenger_count_id'] = passenger_count_dim.index\npassenger_count_dim = passenger_count_dim[['passenger_count_id','passenger_count']]\n\ntrip_distance_dim = df[['trip_distance']].drop_duplicates().reset_index(drop=True)\ntrip_distance_dim['trip_distance_id'] = trip_distance_dim.index\ntrip_distance_dim = trip_distance_dim[['trip_distance_id','trip_distance']]",
      "metadata": {
        "trusted": true
      },
      "outputs": [],
      "execution_count": 36
    },
    {
      "cell_type": "code",
      "source": "passenger_count_dim.head()",
      "metadata": {
        "trusted": true
      },
      "outputs": [
        {
          "execution_count": 37,
          "output_type": "execute_result",
          "data": {
            "text/plain": "   passenger_count_id  passenger_count\n0                   0                1\n1                   1                2\n2                   2                3\n3                   3                5\n4                   4                6",
            "text/html": "<div>\n<style scoped>\n    .dataframe tbody tr th:only-of-type {\n        vertical-align: middle;\n    }\n\n    .dataframe tbody tr th {\n        vertical-align: top;\n    }\n\n    .dataframe thead th {\n        text-align: right;\n    }\n</style>\n<table border=\"1\" class=\"dataframe\">\n  <thead>\n    <tr style=\"text-align: right;\">\n      <th></th>\n      <th>passenger_count_id</th>\n      <th>passenger_count</th>\n    </tr>\n  </thead>\n  <tbody>\n    <tr>\n      <th>0</th>\n      <td>0</td>\n      <td>1</td>\n    </tr>\n    <tr>\n      <th>1</th>\n      <td>1</td>\n      <td>2</td>\n    </tr>\n    <tr>\n      <th>2</th>\n      <td>2</td>\n      <td>3</td>\n    </tr>\n    <tr>\n      <th>3</th>\n      <td>3</td>\n      <td>5</td>\n    </tr>\n    <tr>\n      <th>4</th>\n      <td>4</td>\n      <td>6</td>\n    </tr>\n  </tbody>\n</table>\n</div>"
          },
          "metadata": {}
        }
      ],
      "execution_count": 37
    },
    {
      "cell_type": "code",
      "source": "trip_distance_dim.head()",
      "metadata": {
        "trusted": true
      },
      "outputs": [
        {
          "execution_count": 38,
          "output_type": "execute_result",
          "data": {
            "text/plain": "   trip_distance_id  trip_distance\n0                 0           2.50\n1                 1           2.90\n2                 2          19.98\n3                 3          10.78\n4                 4          30.43",
            "text/html": "<div>\n<style scoped>\n    .dataframe tbody tr th:only-of-type {\n        vertical-align: middle;\n    }\n\n    .dataframe tbody tr th {\n        vertical-align: top;\n    }\n\n    .dataframe thead th {\n        text-align: right;\n    }\n</style>\n<table border=\"1\" class=\"dataframe\">\n  <thead>\n    <tr style=\"text-align: right;\">\n      <th></th>\n      <th>trip_distance_id</th>\n      <th>trip_distance</th>\n    </tr>\n  </thead>\n  <tbody>\n    <tr>\n      <th>0</th>\n      <td>0</td>\n      <td>2.50</td>\n    </tr>\n    <tr>\n      <th>1</th>\n      <td>1</td>\n      <td>2.90</td>\n    </tr>\n    <tr>\n      <th>2</th>\n      <td>2</td>\n      <td>19.98</td>\n    </tr>\n    <tr>\n      <th>3</th>\n      <td>3</td>\n      <td>10.78</td>\n    </tr>\n    <tr>\n      <th>4</th>\n      <td>4</td>\n      <td>30.43</td>\n    </tr>\n  </tbody>\n</table>\n</div>"
          },
          "metadata": {}
        }
      ],
      "execution_count": 38
    },
    {
      "cell_type": "code",
      "source": "rate_code_type = {\n    1:\"Standard rate\",\n    2:\"JFK\",\n    3:\"Newark\",\n    4:\"Nassau or Westchester\",\n    5:\"Negotiated fare\",\n    6:\"Group ride\"\n}\n\nrate_code_dim = df[['RatecodeID']].drop_duplicates().reset_index(drop=True)\nrate_code_dim['rate_code_id'] = rate_code_dim.index\nrate_code_dim['rate_code_name'] = rate_code_dim['RatecodeID'].map(rate_code_type)\nrate_code_dim = rate_code_dim[['rate_code_id','RatecodeID','rate_code_name']]",
      "metadata": {
        "trusted": true
      },
      "outputs": [],
      "execution_count": 39
    },
    {
      "cell_type": "code",
      "source": "rate_code_dim.head()",
      "metadata": {
        "trusted": true
      },
      "outputs": [
        {
          "execution_count": 40,
          "output_type": "execute_result",
          "data": {
            "text/plain": "   rate_code_id  RatecodeID         rate_code_name\n0             0           1          Standard rate\n1             1           3                 Newark\n2             2           2                    JFK\n3             3           5        Negotiated fare\n4             4           4  Nassau or Westchester",
            "text/html": "<div>\n<style scoped>\n    .dataframe tbody tr th:only-of-type {\n        vertical-align: middle;\n    }\n\n    .dataframe tbody tr th {\n        vertical-align: top;\n    }\n\n    .dataframe thead th {\n        text-align: right;\n    }\n</style>\n<table border=\"1\" class=\"dataframe\">\n  <thead>\n    <tr style=\"text-align: right;\">\n      <th></th>\n      <th>rate_code_id</th>\n      <th>RatecodeID</th>\n      <th>rate_code_name</th>\n    </tr>\n  </thead>\n  <tbody>\n    <tr>\n      <th>0</th>\n      <td>0</td>\n      <td>1</td>\n      <td>Standard rate</td>\n    </tr>\n    <tr>\n      <th>1</th>\n      <td>1</td>\n      <td>3</td>\n      <td>Newark</td>\n    </tr>\n    <tr>\n      <th>2</th>\n      <td>2</td>\n      <td>2</td>\n      <td>JFK</td>\n    </tr>\n    <tr>\n      <th>3</th>\n      <td>3</td>\n      <td>5</td>\n      <td>Negotiated fare</td>\n    </tr>\n    <tr>\n      <th>4</th>\n      <td>4</td>\n      <td>4</td>\n      <td>Nassau or Westchester</td>\n    </tr>\n  </tbody>\n</table>\n</div>"
          },
          "metadata": {}
        }
      ],
      "execution_count": 40
    },
    {
      "cell_type": "code",
      "source": "pickup_location_dim = df[['pickup_longitude', 'pickup_latitude']].drop_duplicates().reset_index(drop=True)\npickup_location_dim['pickup_location_id'] = pickup_location_dim.index\npickup_location_dim = pickup_location_dim[['pickup_location_id','pickup_latitude','pickup_longitude']] \n\n\ndropoff_location_dim = df[['dropoff_longitude', 'dropoff_latitude']].drop_duplicates().reset_index(drop=True)\ndropoff_location_dim['dropoff_location_id'] = dropoff_location_dim.index\ndropoff_location_dim = dropoff_location_dim[['dropoff_location_id','dropoff_latitude','dropoff_longitude']]",
      "metadata": {
        "trusted": true
      },
      "outputs": [],
      "execution_count": 41
    },
    {
      "cell_type": "code",
      "source": "payment_type_name = {\n    1:\"Credit card\",\n    2:\"Cash\",\n    3:\"No charge\",\n    4:\"Dispute\",\n    5:\"Unknown\",\n    6:\"Voided trip\"\n}\npayment_type_dim = df[['payment_type']].drop_duplicates().reset_index(drop=True)\npayment_type_dim['payment_type_id'] = payment_type_dim.index\npayment_type_dim['payment_type_name'] = payment_type_dim['payment_type'].map(payment_type_name)\npayment_type_dim = payment_type_dim[['payment_type_id','payment_type','payment_type_name']]",
      "metadata": {
        "trusted": true
      },
      "outputs": [],
      "execution_count": 42
    },
    {
      "cell_type": "code",
      "source": "payment_type_dim.head()",
      "metadata": {
        "trusted": true
      },
      "outputs": [
        {
          "execution_count": 43,
          "output_type": "execute_result",
          "data": {
            "text/plain": "   payment_type_id  payment_type payment_type_name\n0                0             1       Credit card\n1                1             2              Cash\n2                2             3         No charge\n3                3             4           Dispute",
            "text/html": "<div>\n<style scoped>\n    .dataframe tbody tr th:only-of-type {\n        vertical-align: middle;\n    }\n\n    .dataframe tbody tr th {\n        vertical-align: top;\n    }\n\n    .dataframe thead th {\n        text-align: right;\n    }\n</style>\n<table border=\"1\" class=\"dataframe\">\n  <thead>\n    <tr style=\"text-align: right;\">\n      <th></th>\n      <th>payment_type_id</th>\n      <th>payment_type</th>\n      <th>payment_type_name</th>\n    </tr>\n  </thead>\n  <tbody>\n    <tr>\n      <th>0</th>\n      <td>0</td>\n      <td>1</td>\n      <td>Credit card</td>\n    </tr>\n    <tr>\n      <th>1</th>\n      <td>1</td>\n      <td>2</td>\n      <td>Cash</td>\n    </tr>\n    <tr>\n      <th>2</th>\n      <td>2</td>\n      <td>3</td>\n      <td>No charge</td>\n    </tr>\n    <tr>\n      <th>3</th>\n      <td>3</td>\n      <td>4</td>\n      <td>Dispute</td>\n    </tr>\n  </tbody>\n</table>\n</div>"
          },
          "metadata": {}
        }
      ],
      "execution_count": 43
    },
    {
      "cell_type": "code",
      "source": "fact_table = df.merge(passenger_count_dim, on='passenger_count') \\\n             .merge(trip_distance_dim, on='trip_distance') \\\n             .merge(rate_code_dim, on='RatecodeID') \\\n             .merge(pickup_location_dim, on=['pickup_longitude', 'pickup_latitude']) \\\n             .merge(dropoff_location_dim, on=['dropoff_longitude', 'dropoff_latitude'])\\\n             .merge(datetime_dim, on=['tpep_pickup_datetime','tpep_dropoff_datetime']) \\\n             .merge(payment_type_dim, on='payment_type') \\\n             [['VendorID', 'datetime_id', 'passenger_count_id',\n               'trip_distance_id', 'rate_code_id', 'store_and_fwd_flag', 'pickup_location_id', 'dropoff_location_id',\n               'payment_type_id', 'fare_amount', 'extra', 'mta_tax', 'tip_amount', 'tolls_amount',\n               'improvement_surcharge', 'total_amount']]",
      "metadata": {
        "trusted": true
      },
      "outputs": [],
      "execution_count": 44
    },
    {
      "cell_type": "code",
      "source": "fact_table",
      "metadata": {
        "trusted": true
      },
      "outputs": [
        {
          "execution_count": 45,
          "output_type": "execute_result",
          "data": {
            "text/plain": "       VendorID  datetime_id  passenger_count_id  trip_distance_id  \\\n0             1            0                   0                 0   \n1             1            0                   0                97   \n2             2            0                   5                73   \n3             2            0                   4               110   \n4             2            0                   3                27   \n...         ...          ...                 ...               ...   \n99995         1        19254                   0              1948   \n99996         1        16369                   0              1829   \n99997         1        19661                   1              2084   \n99998         2        22298                   4               257   \n99999         1        23211                   0              1894   \n\n       rate_code_id store_and_fwd_flag  pickup_location_id  \\\n0                 0                  N                   0   \n1                 0                  N                 111   \n2                 0                  N                  78   \n3                 0                  N                 130   \n4                 0                  N                  27   \n...             ...                ...                 ...   \n99995             0                  N               79545   \n99996             0                  N               69665   \n99997             0                  N               80588   \n99998             1                  N               85670   \n99999             1                  N               87206   \n\n       dropoff_location_id  payment_type_id  fare_amount  extra  mta_tax  \\\n0                        0                0          9.0    0.5      0.5   \n1                      111                0          7.0    0.5      0.5   \n2                       78                0          6.5    0.5      0.5   \n3                      129                0          8.0    0.5      0.5   \n4                       27                0          8.5    0.5      0.5   \n...                    ...              ...          ...    ...      ...   \n99995                79817                3         71.0    0.5      0.5   \n99996                69877                3         47.5    0.5      0.5   \n99997                80861                3         65.0    0.5      0.5   \n99998                85971                3        -20.0   -0.5      0.0   \n99999                87511                3         70.5    0.5      0.0   \n\n       tip_amount  tolls_amount  improvement_surcharge  total_amount  \n0            2.05          0.00                    0.3         12.35  \n1            1.00          0.00                    0.3          9.30  \n2            1.56          0.00                    0.3          9.36  \n3            1.86          0.00                    0.3         11.16  \n4            1.96          0.00                    0.3         11.76  \n...           ...           ...                    ...           ...  \n99995        0.00         11.08                    0.3         83.38  \n99996        0.00          0.00                    0.3         48.80  \n99997        0.00          0.00                    0.3         66.30  \n99998        0.00          0.00                   -0.3        -20.80  \n99999        0.00         10.50                    0.3         81.80  \n\n[100000 rows x 16 columns]",
            "text/html": "<div>\n<style scoped>\n    .dataframe tbody tr th:only-of-type {\n        vertical-align: middle;\n    }\n\n    .dataframe tbody tr th {\n        vertical-align: top;\n    }\n\n    .dataframe thead th {\n        text-align: right;\n    }\n</style>\n<table border=\"1\" class=\"dataframe\">\n  <thead>\n    <tr style=\"text-align: right;\">\n      <th></th>\n      <th>VendorID</th>\n      <th>datetime_id</th>\n      <th>passenger_count_id</th>\n      <th>trip_distance_id</th>\n      <th>rate_code_id</th>\n      <th>store_and_fwd_flag</th>\n      <th>pickup_location_id</th>\n      <th>dropoff_location_id</th>\n      <th>payment_type_id</th>\n      <th>fare_amount</th>\n      <th>extra</th>\n      <th>mta_tax</th>\n      <th>tip_amount</th>\n      <th>tolls_amount</th>\n      <th>improvement_surcharge</th>\n      <th>total_amount</th>\n    </tr>\n  </thead>\n  <tbody>\n    <tr>\n      <th>0</th>\n      <td>1</td>\n      <td>0</td>\n      <td>0</td>\n      <td>0</td>\n      <td>0</td>\n      <td>N</td>\n      <td>0</td>\n      <td>0</td>\n      <td>0</td>\n      <td>9.0</td>\n      <td>0.5</td>\n      <td>0.5</td>\n      <td>2.05</td>\n      <td>0.00</td>\n      <td>0.3</td>\n      <td>12.35</td>\n    </tr>\n    <tr>\n      <th>1</th>\n      <td>1</td>\n      <td>0</td>\n      <td>0</td>\n      <td>97</td>\n      <td>0</td>\n      <td>N</td>\n      <td>111</td>\n      <td>111</td>\n      <td>0</td>\n      <td>7.0</td>\n      <td>0.5</td>\n      <td>0.5</td>\n      <td>1.00</td>\n      <td>0.00</td>\n      <td>0.3</td>\n      <td>9.30</td>\n    </tr>\n    <tr>\n      <th>2</th>\n      <td>2</td>\n      <td>0</td>\n      <td>5</td>\n      <td>73</td>\n      <td>0</td>\n      <td>N</td>\n      <td>78</td>\n      <td>78</td>\n      <td>0</td>\n      <td>6.5</td>\n      <td>0.5</td>\n      <td>0.5</td>\n      <td>1.56</td>\n      <td>0.00</td>\n      <td>0.3</td>\n      <td>9.36</td>\n    </tr>\n    <tr>\n      <th>3</th>\n      <td>2</td>\n      <td>0</td>\n      <td>4</td>\n      <td>110</td>\n      <td>0</td>\n      <td>N</td>\n      <td>130</td>\n      <td>129</td>\n      <td>0</td>\n      <td>8.0</td>\n      <td>0.5</td>\n      <td>0.5</td>\n      <td>1.86</td>\n      <td>0.00</td>\n      <td>0.3</td>\n      <td>11.16</td>\n    </tr>\n    <tr>\n      <th>4</th>\n      <td>2</td>\n      <td>0</td>\n      <td>3</td>\n      <td>27</td>\n      <td>0</td>\n      <td>N</td>\n      <td>27</td>\n      <td>27</td>\n      <td>0</td>\n      <td>8.5</td>\n      <td>0.5</td>\n      <td>0.5</td>\n      <td>1.96</td>\n      <td>0.00</td>\n      <td>0.3</td>\n      <td>11.76</td>\n    </tr>\n    <tr>\n      <th>...</th>\n      <td>...</td>\n      <td>...</td>\n      <td>...</td>\n      <td>...</td>\n      <td>...</td>\n      <td>...</td>\n      <td>...</td>\n      <td>...</td>\n      <td>...</td>\n      <td>...</td>\n      <td>...</td>\n      <td>...</td>\n      <td>...</td>\n      <td>...</td>\n      <td>...</td>\n      <td>...</td>\n    </tr>\n    <tr>\n      <th>99995</th>\n      <td>1</td>\n      <td>19254</td>\n      <td>0</td>\n      <td>1948</td>\n      <td>0</td>\n      <td>N</td>\n      <td>79545</td>\n      <td>79817</td>\n      <td>3</td>\n      <td>71.0</td>\n      <td>0.5</td>\n      <td>0.5</td>\n      <td>0.00</td>\n      <td>11.08</td>\n      <td>0.3</td>\n      <td>83.38</td>\n    </tr>\n    <tr>\n      <th>99996</th>\n      <td>1</td>\n      <td>16369</td>\n      <td>0</td>\n      <td>1829</td>\n      <td>0</td>\n      <td>N</td>\n      <td>69665</td>\n      <td>69877</td>\n      <td>3</td>\n      <td>47.5</td>\n      <td>0.5</td>\n      <td>0.5</td>\n      <td>0.00</td>\n      <td>0.00</td>\n      <td>0.3</td>\n      <td>48.80</td>\n    </tr>\n    <tr>\n      <th>99997</th>\n      <td>1</td>\n      <td>19661</td>\n      <td>1</td>\n      <td>2084</td>\n      <td>0</td>\n      <td>N</td>\n      <td>80588</td>\n      <td>80861</td>\n      <td>3</td>\n      <td>65.0</td>\n      <td>0.5</td>\n      <td>0.5</td>\n      <td>0.00</td>\n      <td>0.00</td>\n      <td>0.3</td>\n      <td>66.30</td>\n    </tr>\n    <tr>\n      <th>99998</th>\n      <td>2</td>\n      <td>22298</td>\n      <td>4</td>\n      <td>257</td>\n      <td>1</td>\n      <td>N</td>\n      <td>85670</td>\n      <td>85971</td>\n      <td>3</td>\n      <td>-20.0</td>\n      <td>-0.5</td>\n      <td>0.0</td>\n      <td>0.00</td>\n      <td>0.00</td>\n      <td>-0.3</td>\n      <td>-20.80</td>\n    </tr>\n    <tr>\n      <th>99999</th>\n      <td>1</td>\n      <td>23211</td>\n      <td>0</td>\n      <td>1894</td>\n      <td>1</td>\n      <td>N</td>\n      <td>87206</td>\n      <td>87511</td>\n      <td>3</td>\n      <td>70.5</td>\n      <td>0.5</td>\n      <td>0.0</td>\n      <td>0.00</td>\n      <td>10.50</td>\n      <td>0.3</td>\n      <td>81.80</td>\n    </tr>\n  </tbody>\n</table>\n<p>100000 rows × 16 columns</p>\n</div>"
          },
          "metadata": {}
        }
      ],
      "execution_count": 45
    },
    {
      "cell_type": "code",
      "source": "",
      "metadata": {
        "trusted": true
      },
      "outputs": [],
      "execution_count": null
    }
  ]
}